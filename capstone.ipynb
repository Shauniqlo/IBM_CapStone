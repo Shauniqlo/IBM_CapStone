{
 "cells": [
  {
   "cell_type": "markdown",
   "metadata": {},
   "source": [
    "This notebook will mainly be used for the IBM Data Science Capstone Project by IBM and Coursera"
   ]
  },
  {
   "cell_type": "code",
   "execution_count": 1,
   "metadata": {},
   "outputs": [
    {
     "name": "stdout",
     "output_type": "stream",
     "text": [
      "Hello Capstone Project Course!\n"
     ]
    }
   ],
   "source": [
    "import pandas as pd\n",
    "import numpy as np\n",
    "print('Hello Capstone Project Course!')"
   ]
  },
  {
   "cell_type": "markdown",
   "metadata": {},
   "source": [
    "# Introduction\n",
    "For this project, I will be comparing neighborhoods clusters in Singapore to those in New York and Toronto to see which are they more similar to. I would ultimately like to answer the question of whether Singapore is more similar to New York or Toronto. \n",
    "\n",
    "## Business Problem\n",
    "The business problem I would like to solve is a hypothetical one. Imagine that there is a Singaporean franchise looking to expand its business overseas, either to New York or Toronto. This company has hired me to determine which neighborhood or neighborhoods is most similar to their most successful branch in Singapore which is located the neighborhood of Orchard. This information will help them determine 1) which country to enter and 2) where to set up their new store or potentially stores. \n",
    "\n",
    "## Data\n",
    "Firstly, I will be gathering the postal codes of neighbors and using the geopy to determine their latitude and longitud. After this, foursquare data can be retrieved and used to compare the neighborhoods. Foursquare data in this situation is sufficient to cluster and segment neighborhoods in the three countries using k-means clustering. Individual neighborhood in the different countries can also be compared through a similarity matrix where their scores are based on the frequency of venues. The country to enter would be determined by the size of the similar cluster as well as the similarity of the cluster to their branch in Singapore.\n"
   ]
  },
  {
   "cell_type": "markdown",
   "metadata": {},
   "source": []
  },
  {
   "cell_type": "code",
   "execution_count": null,
   "metadata": {},
   "outputs": [],
   "source": []
  }
 ],
 "metadata": {
  "kernelspec": {
   "display_name": "Python 3",
   "language": "python",
   "name": "python3"
  },
  "language_info": {
   "codemirror_mode": {
    "name": "ipython",
    "version": 3
   },
   "file_extension": ".py",
   "mimetype": "text/x-python",
   "name": "python",
   "nbconvert_exporter": "python",
   "pygments_lexer": "ipython3",
   "version": "3.7.4"
  }
 },
 "nbformat": 4,
 "nbformat_minor": 2
}
